{
 "cells": [
  {
   "cell_type": "markdown",
   "id": "2f4849ff",
   "metadata": {},
   "source": [
    "# Hardware and vision\n",
    "\n",
    "We want to predict if an image is flip or not."
   ]
  },
  {
   "cell_type": "markdown",
   "id": "aa656f60",
   "metadata": {},
   "source": [
    "## Loading relevant libraries"
   ]
  },
  {
   "cell_type": "code",
   "execution_count": 3,
   "id": "b876a1d2",
   "metadata": {},
   "outputs": [],
   "source": [
    "import numpy as np\n",
    "import pandas as pd\n",
    "import matplotlib.pyplot as plt\n",
    "import os\n",
    "import seaborn as sns\n",
    "from sklearn.metrics import precision_score,recall_score,accuracy_score,f1_score,confusion_matrix,classification_report\n",
    "from PIL import Image,ImageOps"
   ]
  },
  {
   "cell_type": "markdown",
   "id": "bd829742",
   "metadata": {},
   "source": [
    "## Data Preparation\n",
    "* Data Exploration\n",
    "* Splitting data into train and test\n",
    "* Data preprocessing"
   ]
  },
  {
   "cell_type": "code",
   "execution_count": 4,
   "id": "35c835c0",
   "metadata": {},
   "outputs": [],
   "source": [
    "#Build Training data\n",
    "X_train=[]\n",
    "y_train=[]\n",
    "#Load arrays for each of the positive classes in training data and add a label of 1\n",
    "src=\"images/training/flip/\"\n",
    "files=os.listdir(src)\n",
    "for file in files:\n",
    "    X_train.append(np.array(ImageOps.grayscale(Image.open(src+file))))\n",
    "    y_train.append(1)"
   ]
  },
  {
   "cell_type": "code",
   "execution_count": 5,
   "id": "d85ac2d2",
   "metadata": {},
   "outputs": [],
   "source": [
    "#load arrays for each of the negative classes in training data and add a label of 0\n",
    "src=\"images/training/notflip/\"\n",
    "files=os.listdir(src)\n",
    "for file in files:\n",
    "    X_train.append(np.array(ImageOps.grayscale(Image.open(src+file))))\n",
    "    y_train.append(0)"
   ]
  },
  {
   "cell_type": "code",
   "execution_count": 6,
   "id": "28e24d0d",
   "metadata": {},
   "outputs": [],
   "source": [
    "#Build test data\n",
    "X_test=[]\n",
    "y_test=[]\n",
    "#load arrays for each of the positive classes in test data and add a label of 1\n",
    "src=\"images/testing/flip/\"\n",
    "files=os.listdir(src)\n",
    "for file in files:\n",
    "    X_test.append(np.array(ImageOps.grayscale(Image.open(src+file))))\n",
    "    y_test.append(1)"
   ]
  },
  {
   "cell_type": "code",
   "execution_count": null,
   "id": "ce682003",
   "metadata": {},
   "outputs": [],
   "source": [
    "#load arrays for each of the negative classes in test data and add a label of 0\n",
    "src=\"images/testing/notflip/\"\n",
    "files=os.listdir(src)\n",
    "for file in files:\n",
    "    X_test.append(np.array(ImageOps.grayscale(Image.open(src+file))))\n",
    "    y_test.append(0)"
   ]
  },
  {
   "cell_type": "code",
   "execution_count": 2,
   "id": "39efbe3e",
   "metadata": {},
   "outputs": [
    {
     "ename": "NameError",
     "evalue": "name 'np' is not defined",
     "output_type": "error",
     "traceback": [
      "\u001b[0;31m---------------------------------------------------------------------------\u001b[0m",
      "\u001b[0;31mNameError\u001b[0m                                 Traceback (most recent call last)",
      "\u001b[0;32m/tmp/ipykernel_6780/673557629.py\u001b[0m in \u001b[0;36m<module>\u001b[0;34m\u001b[0m\n\u001b[0;32m----> 1\u001b[0;31m \u001b[0mX_train\u001b[0m\u001b[0;34m=\u001b[0m\u001b[0mnp\u001b[0m\u001b[0;34m.\u001b[0m\u001b[0marray\u001b[0m\u001b[0;34m(\u001b[0m\u001b[0mX_train\u001b[0m\u001b[0;34m)\u001b[0m\u001b[0;34m\u001b[0m\u001b[0;34m\u001b[0m\u001b[0m\n\u001b[0m\u001b[1;32m      2\u001b[0m \u001b[0mX_test\u001b[0m\u001b[0;34m=\u001b[0m\u001b[0mnp\u001b[0m\u001b[0;34m.\u001b[0m\u001b[0marray\u001b[0m\u001b[0;34m(\u001b[0m\u001b[0mX_test\u001b[0m\u001b[0;34m)\u001b[0m\u001b[0;34m\u001b[0m\u001b[0;34m\u001b[0m\u001b[0m\n",
      "\u001b[0;31mNameError\u001b[0m: name 'np' is not defined"
     ]
    }
   ],
   "source": [
    "X_train=np.array(X_train)\n",
    "X_test=np.array(X_test)"
   ]
  },
  {
   "cell_type": "code",
   "execution_count": null,
   "id": "e0aaf3e4",
   "metadata": {},
   "outputs": [],
   "source": [
    "y_train=np.array(y_train)\n",
    "y_test=np.array(y_test)"
   ]
  },
  {
   "cell_type": "code",
   "execution_count": null,
   "id": "dad86d1a",
   "metadata": {},
   "outputs": [],
   "source": [
    "X_train.shape"
   ]
  },
  {
   "cell_type": "code",
   "execution_count": null,
   "id": "3f225d8e",
   "metadata": {},
   "outputs": [],
   "source": [
    "X_test.shape"
   ]
  },
  {
   "cell_type": "code",
   "execution_count": null,
   "id": "1e27c87f",
   "metadata": {},
   "outputs": [],
   "source": [
    "#Reshape to make these work for keras neural network\n",
    "X_train=X_train.reshape(2392,1920,1080,1)\n",
    "X_test=X_test.reshape(597,1920,1080,1)"
   ]
  },
  {
   "cell_type": "markdown",
   "id": "1873e537",
   "metadata": {},
   "source": [
    "## Modelling"
   ]
  },
  {
   "cell_type": "code",
   "execution_count": null,
   "id": "674a5c87",
   "metadata": {},
   "outputs": [],
   "source": [
    "#Import packages to build neural network\n",
    "from tensorflow.keras.models import Sequential\n",
    "from tensorflow.keras.layers import Dense,Conv2D,MaxPooling2D,Flatten"
   ]
  },
  {
   "cell_type": "code",
   "execution_count": null,
   "id": "9495aa0b",
   "metadata": {},
   "outputs": [],
   "source": [
    "#Create the model\n",
    "cnn=Sequential()\n",
    "#initially 16 convolution nodes\n",
    "cnn.add(Conv2D(16,(3,3),padding=\"same\",activation='relu',input_shape=X_train.shape[1:]))\n",
    "#add a Max Pooling layer\n",
    "cnn.add(MaxPooling2D())\n",
    "#another 16 convolution nodes\n",
    "cnn.add(Conv2D(16,(3,3),padding=\"same\",activation='relu'))\n",
    "#Add a max pooling\n",
    "cnn.add(MaxPooling2D())\n",
    "#Add 8 convolutions\n",
    "cnn.add(Conv2D(8,(2,2),padding=\"same\",activation='relu'))\n",
    "#Add a max pooling\n",
    "cnn.add(MaxPooling2D())\n",
    "#Flatten before adding fully connected layer\n",
    "cnn.add(Flatten())\n",
    "#Add a hidden layer with 50 nodes\n",
    "cnn.add(Dense(50,activation='relu'))\n",
    "#Add another hidden layer with 25 nodes\n",
    "cnn.add(Dense(25,activation='relu'))\n",
    "#Add final output layer with 1 output nodes using sigmoid\n",
    "cnn.add(Dense(1,activation='sigmoid'))"
   ]
  },
  {
   "cell_type": "code",
   "execution_count": null,
   "id": "146c193e",
   "metadata": {},
   "outputs": [],
   "source": [
    "cnn.summary()"
   ]
  },
  {
   "cell_type": "code",
   "execution_count": null,
   "id": "be511402",
   "metadata": {},
   "outputs": [],
   "source": [
    "cnn.compile(optimizer='adam',loss='binary_crossentropy',metrics='accuracy')"
   ]
  },
  {
   "cell_type": "code",
   "execution_count": null,
   "id": "b8e6bd65",
   "metadata": {},
   "outputs": [],
   "source": [
    "#train the network\n",
    "history=cnn.fit(X_train,y_train,epochs=10,validation_data=(X_test,y_test))"
   ]
  },
  {
   "cell_type": "code",
   "execution_count": null,
   "id": "e7be2927",
   "metadata": {},
   "outputs": [],
   "source": [
    "plt.plot(history.history[\"loss\"],color=\"r\",marker=\"o\")\n",
    "plt.plot(history.history[\"val_loss\"],color=\"b\",marker=\"o\")\n",
    "plt.title(\"Loss while training\")\n",
    "plt.xlabel(\"Epoch\")\n",
    "plt.ylabel(\"Loss\")\n",
    "plt.legend([\"Training Loss\",\"Validation Loss\"])\n",
    "plt.show()"
   ]
  },
  {
   "cell_type": "code",
   "execution_count": null,
   "id": "f5c38752",
   "metadata": {},
   "outputs": [],
   "source": [
    "plt.plot(history.history[\"accuracy\"],color=\"r\",marker=\"o\")\n",
    "plt.plot(history.history[\"val_accuracy\"],color=\"b\",marker=\"o\")\n",
    "plt.title(\"Accuracy while training\")\n",
    "plt.xlabel(\"Epoch\")\n",
    "plt.ylabel(\"Accuracy\")\n",
    "plt.legend([\"Training Accuracy\",\"Validation Accuracy\"])\n",
    "plt.show()"
   ]
  },
  {
   "cell_type": "code",
   "execution_count": null,
   "id": "8771ffd1",
   "metadata": {},
   "outputs": [],
   "source": [
    "y_pred=cnn.predict(X_test)>=0.5"
   ]
  },
  {
   "cell_type": "code",
   "execution_count": null,
   "id": "2fcc33ef",
   "metadata": {},
   "outputs": [],
   "source": [
    "import seaborn as sns\n",
    "sns.heatmap(confusion_matrix(y_test,y_pred),annot=True,fmt='g')\n",
    "plt.show()"
   ]
  },
  {
   "cell_type": "code",
   "execution_count": null,
   "id": "59f7de97",
   "metadata": {},
   "outputs": [],
   "source": [
    "print(f1_score(y_test,y_pred))"
   ]
  },
  {
   "cell_type": "code",
   "execution_count": null,
   "id": "4e7ac808",
   "metadata": {},
   "outputs": [],
   "source": [
    "print(classification_report(y_test,y_pred))"
   ]
  },
  {
   "cell_type": "code",
   "execution_count": null,
   "id": "7c712162",
   "metadata": {},
   "outputs": [],
   "source": [
    "print(accuracy_score(y_test,y_pred))"
   ]
  },
  {
   "cell_type": "code",
   "execution_count": null,
   "id": "f12d43f7",
   "metadata": {},
   "outputs": [],
   "source": []
  }
 ],
 "metadata": {
  "kernelspec": {
   "display_name": "Python 3 (ipykernel)",
   "language": "python",
   "name": "python3"
  },
  "language_info": {
   "codemirror_mode": {
    "name": "ipython",
    "version": 3
   },
   "file_extension": ".py",
   "mimetype": "text/x-python",
   "name": "python",
   "nbconvert_exporter": "python",
   "pygments_lexer": "ipython3",
   "version": "3.9.7"
  }
 },
 "nbformat": 4,
 "nbformat_minor": 5
}
