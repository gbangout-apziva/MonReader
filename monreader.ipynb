{
  "cells": [
    {
      "cell_type": "markdown",
      "metadata": {
        "id": "view-in-github",
        "colab_type": "text"
      },
      "source": [
        "<a href=\"https://colab.research.google.com/github/gbangout-apziva/MonReader/blob/main/monreader.ipynb\" target=\"_parent\"><img src=\"https://colab.research.google.com/assets/colab-badge.svg\" alt=\"Open In Colab\"/></a>"
      ]
    },
    {
      "cell_type": "markdown",
      "id": "2f4849ff",
      "metadata": {
        "id": "2f4849ff"
      },
      "source": [
        "# Hardware and vision\n",
        "\n",
        "We want to predict if an image is flip or not."
      ]
    },
    {
      "cell_type": "code",
      "source": [
        "from google.colab import drive\n",
        "drive.mount('/content/drive')"
      ],
      "metadata": {
        "id": "bawOH-QIrlcq"
      },
      "id": "bawOH-QIrlcq",
      "execution_count": null,
      "outputs": []
    },
    {
      "cell_type": "markdown",
      "id": "aa656f60",
      "metadata": {
        "id": "aa656f60"
      },
      "source": [
        "## Loading relevant libraries"
      ]
    },
    {
      "cell_type": "markdown",
      "source": [],
      "metadata": {
        "id": "XIjS_rWuurFV"
      },
      "id": "XIjS_rWuurFV"
    },
    {
      "cell_type": "code",
      "execution_count": null,
      "id": "b876a1d2",
      "metadata": {
        "id": "b876a1d2"
      },
      "outputs": [],
      "source": [
        "import numpy as np\n",
        "import pandas as pd\n",
        "import matplotlib.pyplot as plt\n",
        "import os\n",
        "import seaborn as sns\n",
        "from sklearn.metrics import precision_score,recall_score,accuracy_score,f1_score,confusion_matrix,classification_report\n",
        "from PIL import Image,ImageOps"
      ]
    },
    {
      "cell_type": "markdown",
      "id": "bd829742",
      "metadata": {
        "id": "bd829742"
      },
      "source": [
        "## Data Preparation\n",
        "* Data Exploration\n",
        "* Splitting data into train and test\n",
        "* Data preprocessing"
      ]
    },
    {
      "cell_type": "code",
      "source": [
        "src=\"/content/drive/MyDrive/colabnotes/monreader/images/training/flip/\"\n",
        "file=\"0001_000000010.jpg\"\n",
        "im=Image.open(src+file)\n",
        "width, height = im.size\n",
        "print(width), print(height)\n",
        "len(im.fp.read())\n",
        "#display(im)"
      ],
      "metadata": {
        "id": "sBJE6oQpp9VX"
      },
      "id": "sBJE6oQpp9VX",
      "execution_count": null,
      "outputs": []
    },
    {
      "cell_type": "code",
      "source": [
        "(left, upper, right, lower) = (0, 250, 1050, 1200)\n",
        "im_crop = im.crop((left, upper, right, lower))\n",
        "display(im_crop)\n",
        "width, height = im_crop.size\n",
        "width, height\n",
        "im_crop.save(\"/content/drive/MyDrive/colabnotes/monreader/images/training/cropped_image.jpg\")\n",
        "\n"
      ],
      "metadata": {
        "id": "mSFLmYXYrhV6"
      },
      "id": "mSFLmYXYrhV6",
      "execution_count": null,
      "outputs": []
    },
    {
      "cell_type": "code",
      "source": [
        "#im_crop.save(\"/content/drive/MyDrive/colabnotes/monreader/images/training/cropped_image_lowq.jpg\",quality=20,optimize=True)"
      ],
      "metadata": {
        "id": "j9ojmRD7M9Kh"
      },
      "id": "j9ojmRD7M9Kh",
      "execution_count": null,
      "outputs": []
    },
    {
      "cell_type": "code",
      "source": [
        "#(left, upper, right, lower) = (0, 250, 1050, 1200)\n",
        "#src=\"/content/drive/MyDrive/colabnotes/monreader/images/training/flip/\"\n",
        "#src2=\"/content/drive/MyDrive/colabnotes/monreader/images/training/flip_treated/\"\n",
        "#files=os.listdir(src)\n",
        "#for file in files:\n",
        "#    im=Image.open(src+file)\n",
        "#    im_crop = im.crop((left, upper, right, lower))\n",
        "#    im_crop.save(src2+file,quality=20,optimize=True)\n"
      ],
      "metadata": {
        "id": "Xyiog_fEO3KI"
      },
      "id": "Xyiog_fEO3KI",
      "execution_count": null,
      "outputs": []
    },
    {
      "cell_type": "code",
      "source": [
        "#(left, upper, right, lower) = (0, 250, 1050, 1200)\n",
        "#src=\"/content/drive/MyDrive/colabnotes/monreader/images/training/notflip/\"\n",
        "#src2=\"/content/drive/MyDrive/colabnotes/monreader/images/training/notflip_treated/\"\n",
        "#files=os.listdir(src)\n",
        "#for file in files:\n",
        "#    im=Image.open(src+file)\n",
        "#    im_crop = im.crop((left, upper, right, lower))\n",
        "#    im_crop.save(src2+file,quality=20,optimize=True)"
      ],
      "metadata": {
        "id": "t_p4ITKZTSVE"
      },
      "id": "t_p4ITKZTSVE",
      "execution_count": null,
      "outputs": []
    },
    {
      "cell_type": "code",
      "source": [
        "#(left, upper, right, lower) = (0, 250, 1050, 1200)\n",
        "#src=\"/content/drive/MyDrive/colabnotes/monreader/images/testing/flip/\"\n",
        "#src2=\"/content/drive/MyDrive/colabnotes/monreader/images/testing/flip_treated/\"\n",
        "#files=os.listdir(src)\n",
        "#for file in files:\n",
        "#    im=Image.open(src+file)\n",
        "#    im_crop = im.crop((left, upper, right, lower))\n",
        "#    im_crop.save(src2+file,quality=20,optimize=True)"
      ],
      "metadata": {
        "id": "WYJwufiBO7pr"
      },
      "id": "WYJwufiBO7pr",
      "execution_count": null,
      "outputs": []
    },
    {
      "cell_type": "code",
      "source": [
        "#(left, upper, right, lower) = (0, 250, 1050, 1200)\n",
        "#src=\"/content/drive/MyDrive/colabnotes/monreader/images/testing/notflip/\"\n",
        "#src2=\"/content/drive/MyDrive/colabnotes/monreader/images/testing/notflip_treated/\"\n",
        "#files=os.listdir(src)\n",
        "#for file in files:\n",
        "#    im=Image.open(src+file)\n",
        "#    im_crop = im.crop((left, upper, right, lower))\n",
        "#    im_crop.save(src2+file,quality=20,optimize=True)"
      ],
      "metadata": {
        "id": "kylQbLodip2h"
      },
      "id": "kylQbLodip2h",
      "execution_count": null,
      "outputs": []
    },
    {
      "cell_type": "code",
      "execution_count": null,
      "id": "35c835c0",
      "metadata": {
        "id": "35c835c0"
      },
      "outputs": [],
      "source": [
        "#Build Training data\n",
        "X_train=[]\n",
        "y_train=[]\n",
        "#Load arrays for each of the positive classes in training data and add a label of 1\n",
        "src=\"/content/drive/MyDrive/colabnotes/monreader/images/training/flip_treated/\"\n",
        "files=os.listdir(src)\n",
        "for file in files:\n",
        "    X_train.append(np.array(ImageOps.grayscale(Image.open(src+file))))\n",
        "    y_train.append(1)"
      ]
    },
    {
      "cell_type": "code",
      "execution_count": null,
      "id": "d85ac2d2",
      "metadata": {
        "id": "d85ac2d2"
      },
      "outputs": [],
      "source": [
        "#load arrays for each of the negative classes in training data and add a label of 0\n",
        "src=\"/content/drive/MyDrive/colabnotes/monreader/images/training/notflip_treated/\"\n",
        "files=os.listdir(src)\n",
        "for file in files:\n",
        "    X_train.append(np.array(ImageOps.grayscale(Image.open(src+file))))\n",
        "    y_train.append(0)"
      ]
    },
    {
      "cell_type": "code",
      "execution_count": null,
      "id": "28e24d0d",
      "metadata": {
        "id": "28e24d0d"
      },
      "outputs": [],
      "source": [
        "#Build test data\n",
        "#X_test=[]\n",
        "#y_test=[]\n",
        "#load arrays for each of the positive classes in test data and add a label of 1\n",
        "#src=\"/content/drive/MyDrive/colabnotes/monreader/images/testing/flip/\"\n",
        "#files=os.listdir(src)\n",
        "#for file in files:\n",
        "#    X_test.append(np.array(ImageOps.grayscale(Image.open(src+file))))\n",
        "#    y_test.append(1)"
      ]
    },
    {
      "cell_type": "code",
      "execution_count": null,
      "id": "ce682003",
      "metadata": {
        "id": "ce682003"
      },
      "outputs": [],
      "source": [
        "#load arrays for each of the negative classes in test data and add a label of 0\n",
        "#src=\"/content/drive/MyDrive/colabnotes/monreader/images/testing/notflip/\"\n",
        "#files=os.listdir(src)\n",
        "#for file in files:\n",
        "#    X_test.append(np.array(ImageOps.grayscale(Image.open(src+file))))\n",
        "#    y_test.append(0)"
      ]
    },
    {
      "cell_type": "code",
      "execution_count": null,
      "id": "39efbe3e",
      "metadata": {
        "id": "39efbe3e"
      },
      "outputs": [],
      "source": [
        "X_train=np.array(X_train)\n",
        "#X_test=np.array(X_test)"
      ]
    },
    {
      "cell_type": "code",
      "execution_count": null,
      "id": "e0aaf3e4",
      "metadata": {
        "id": "e0aaf3e4"
      },
      "outputs": [],
      "source": [
        "y_train=np.array(y_train)\n",
        "#y_test=np.array(y_test)"
      ]
    },
    {
      "cell_type": "code",
      "source": [
        "#X=X_train.copy()\n",
        "#y=y_train.copy()"
      ],
      "metadata": {
        "id": "nrA8Y1VqQuQ7"
      },
      "id": "nrA8Y1VqQuQ7",
      "execution_count": null,
      "outputs": []
    },
    {
      "cell_type": "code",
      "source": [
        "#X_train_reshaped=X_train.reshape(X_train.shape[0], -1)\n",
        "#y_train_reshaped=y_train.reshape(y_train.shape[0], -1)"
      ],
      "metadata": {
        "id": "XRmtorDXG2JX"
      },
      "id": "XRmtorDXG2JX",
      "execution_count": null,
      "outputs": []
    },
    {
      "cell_type": "code",
      "source": [
        "#np.savetxt(\"/content/drive/MyDrive/colabnotes/monreader/X.txt\",X_train_reshaped)\n",
        "#np.savetxt(\"/content/drive/MyDrive/colabnotes/monreader/y.txt\",y_train_reshaped)"
      ],
      "metadata": {
        "id": "PHrqo4-K8WjB"
      },
      "id": "PHrqo4-K8WjB",
      "execution_count": null,
      "outputs": []
    },
    {
      "cell_type": "code",
      "source": [
        "#loaded_X = np.loadtxt(\"X.txt\")\n",
        "#loaded_y = np.loadtxt(\"y.txt\")"
      ],
      "metadata": {
        "id": "RYZd6KJLYx0J"
      },
      "id": "RYZd6KJLYx0J",
      "execution_count": null,
      "outputs": []
    },
    {
      "cell_type": "code",
      "source": [
        "#load_original_X = loaded_X.reshape(loaded_X.shape[0], loaded_X.shape[1] // X_train.shape[2], X_train.shape[2])\n",
        "#load_original_y = loaded_y.reshape(loaded_y.shape[0], loaded_y.shape[1] // y_train.shape[2], y_train.shape[2])"
      ],
      "metadata": {
        "id": "lv5XNantZWPE"
      },
      "id": "lv5XNantZWPE",
      "execution_count": null,
      "outputs": []
    },
    {
      "cell_type": "code",
      "execution_count": null,
      "id": "dad86d1a",
      "metadata": {
        "id": "dad86d1a"
      },
      "outputs": [],
      "source": [
        "X_train.shape"
      ]
    },
    {
      "cell_type": "code",
      "execution_count": null,
      "id": "3f225d8e",
      "metadata": {
        "id": "3f225d8e"
      },
      "outputs": [],
      "source": [
        "#X_test.shape"
      ]
    },
    {
      "cell_type": "code",
      "source": [
        "from sklearn.model_selection import train_test_split"
      ],
      "metadata": {
        "id": "zxMo5TWf5HW0"
      },
      "id": "zxMo5TWf5HW0",
      "execution_count": null,
      "outputs": []
    },
    {
      "cell_type": "code",
      "source": [
        "import pickle"
      ],
      "metadata": {
        "id": "LPsQsJ4cFEzM"
      },
      "id": "LPsQsJ4cFEzM",
      "execution_count": null,
      "outputs": []
    },
    {
      "cell_type": "code",
      "source": [
        "X_train1, X_val, y_train1, y_val = train_test_split(X_train, y_train , test_size = 0.1, random_state = 100)\n",
        "X_train1.shape, X_val.shape, y_train1.shape, y_val.shape"
      ],
      "metadata": {
        "id": "dBasqiwg46JR"
      },
      "id": "dBasqiwg46JR",
      "execution_count": null,
      "outputs": []
    },
    {
      "cell_type": "code",
      "source": [
        "# Saving the objects:\n",
        "#with open('/content/drive/MyDrive/colabnotes/monreader/objs.pkl', 'wb') as f:\n",
        "#    pickle.dump([X_train1, X_val, y_train1, y_val], f)"
      ],
      "metadata": {
        "id": "HIN9S4x4ECTW"
      },
      "id": "HIN9S4x4ECTW",
      "execution_count": null,
      "outputs": []
    },
    {
      "cell_type": "code",
      "source": [
        "# Getting back the objects:\n",
        "with open('/content/drive/MyDrive/colabnotes/monreader/objs.pkl','rb') as f:  # Python 3: open(..., 'rb')\n",
        "    X_train1, X_val, y_train1, y_val = pickle.load(f)"
      ],
      "metadata": {
        "id": "aFD6zV23ErIw"
      },
      "id": "aFD6zV23ErIw",
      "execution_count": null,
      "outputs": []
    },
    {
      "cell_type": "code",
      "source": [
        "X_train1.shape, X_val.shape, y_train1.shape, y_val.shape"
      ],
      "metadata": {
        "id": "ev86uijlGV_9"
      },
      "id": "ev86uijlGV_9",
      "execution_count": null,
      "outputs": []
    },
    {
      "cell_type": "code",
      "execution_count": null,
      "id": "1e27c87f",
      "metadata": {
        "id": "1e27c87f"
      },
      "outputs": [],
      "source": [
        "#Reshape to make these work for keras neural network\n",
        "X_train1=X_train1.reshape(2152,950,1050,1)\n",
        "X_val=X_val.reshape(240,950,1050,1)"
      ]
    },
    {
      "cell_type": "markdown",
      "id": "1873e537",
      "metadata": {
        "id": "1873e537"
      },
      "source": [
        "## Modelling"
      ]
    },
    {
      "cell_type": "code",
      "execution_count": null,
      "id": "674a5c87",
      "metadata": {
        "id": "674a5c87"
      },
      "outputs": [],
      "source": [
        "#Import packages to build neural network\n",
        "from tensorflow.keras.models import Sequential\n",
        "from tensorflow.keras.layers import Dense,Conv2D,MaxPooling2D,Flatten"
      ]
    },
    {
      "cell_type": "code",
      "execution_count": null,
      "id": "9495aa0b",
      "metadata": {
        "id": "9495aa0b"
      },
      "outputs": [],
      "source": [
        "#Create the model\n",
        "cnn=Sequential()\n",
        "#initially 16 convolution nodes\n",
        "cnn.add(Conv2D(16,(3,3),padding=\"same\",activation='relu',input_shape=X_train1.shape[1:]))\n",
        "#add a Max Pooling layer\n",
        "cnn.add(MaxPooling2D())\n",
        "#another 16 convolution nodes\n",
        "cnn.add(Conv2D(16,(3,3),padding=\"same\",activation='relu'))\n",
        "#Add a max pooling\n",
        "cnn.add(MaxPooling2D())\n",
        "#Add 8 convolutions\n",
        "cnn.add(Conv2D(8,(2,2),padding=\"same\",activation='relu'))\n",
        "#Add a max pooling\n",
        "cnn.add(MaxPooling2D())\n",
        "#Flatten before adding fully connected layer\n",
        "cnn.add(Flatten())\n",
        "#Add a hidden layer with 50 nodes\n",
        "cnn.add(Dense(50,activation='relu'))\n",
        "#Add another hidden layer with 25 nodes\n",
        "cnn.add(Dense(25,activation='relu'))\n",
        "#Add final output layer with 1 output nodes using sigmoid\n",
        "cnn.add(Dense(1,activation='sigmoid'))"
      ]
    },
    {
      "cell_type": "code",
      "execution_count": null,
      "id": "146c193e",
      "metadata": {
        "id": "146c193e"
      },
      "outputs": [],
      "source": [
        "cnn.summary()"
      ]
    },
    {
      "cell_type": "code",
      "execution_count": null,
      "id": "be511402",
      "metadata": {
        "id": "be511402"
      },
      "outputs": [],
      "source": [
        "cnn.compile(optimizer='adam',loss='binary_crossentropy',metrics='accuracy')"
      ]
    },
    {
      "cell_type": "code",
      "execution_count": null,
      "id": "b8e6bd65",
      "metadata": {
        "id": "b8e6bd65"
      },
      "outputs": [],
      "source": [
        "#train the network\n",
        "history=cnn.fit(X_train1,y_train1,epochs=10,validation_data=(X_val,y_val))"
      ]
    },
    {
      "cell_type": "code",
      "execution_count": null,
      "id": "e7be2927",
      "metadata": {
        "id": "e7be2927"
      },
      "outputs": [],
      "source": [
        "plt.plot(history.history[\"loss\"],color=\"r\",marker=\"o\")\n",
        "plt.plot(history.history[\"val_loss\"],color=\"b\",marker=\"o\")\n",
        "plt.title(\"Loss while training\")\n",
        "plt.xlabel(\"Epoch\")\n",
        "plt.ylabel(\"Loss\")\n",
        "plt.legend([\"Training Loss\",\"Validation Loss\"])\n",
        "plt.show()"
      ]
    },
    {
      "cell_type": "code",
      "execution_count": null,
      "id": "f5c38752",
      "metadata": {
        "id": "f5c38752"
      },
      "outputs": [],
      "source": [
        "plt.plot(history.history[\"accuracy\"],color=\"r\",marker=\"o\")\n",
        "plt.plot(history.history[\"val_accuracy\"],color=\"b\",marker=\"o\")\n",
        "plt.title(\"Accuracy while training\")\n",
        "plt.xlabel(\"Epoch\")\n",
        "plt.ylabel(\"Accuracy\")\n",
        "plt.legend([\"Training Accuracy\",\"Validation Accuracy\"])\n",
        "plt.show()"
      ]
    },
    {
      "cell_type": "code",
      "execution_count": null,
      "id": "8771ffd1",
      "metadata": {
        "id": "8771ffd1"
      },
      "outputs": [],
      "source": [
        "y_pred=cnn.predict(X_val)>=0.5"
      ]
    },
    {
      "cell_type": "code",
      "execution_count": null,
      "id": "2fcc33ef",
      "metadata": {
        "id": "2fcc33ef"
      },
      "outputs": [],
      "source": [
        "import seaborn as sns\n",
        "sns.heatmap(confusion_matrix(y_val,y_pred),annot=True,fmt='g')\n",
        "plt.show()"
      ]
    },
    {
      "cell_type": "code",
      "execution_count": null,
      "id": "59f7de97",
      "metadata": {
        "id": "59f7de97"
      },
      "outputs": [],
      "source": [
        "print(f1_score(y_val,y_pred))"
      ]
    },
    {
      "cell_type": "code",
      "execution_count": null,
      "id": "4e7ac808",
      "metadata": {
        "id": "4e7ac808"
      },
      "outputs": [],
      "source": [
        "print(classification_report(y_val,y_pred))"
      ]
    },
    {
      "cell_type": "code",
      "execution_count": null,
      "id": "7c712162",
      "metadata": {
        "id": "7c712162"
      },
      "outputs": [],
      "source": [
        "print(accuracy_score(y_val,y_pred))"
      ]
    },
    {
      "cell_type": "code",
      "execution_count": null,
      "id": "f12d43f7",
      "metadata": {
        "id": "f12d43f7"
      },
      "outputs": [],
      "source": []
    }
  ],
  "metadata": {
    "kernelspec": {
      "display_name": "Python 3 (ipykernel)",
      "language": "python",
      "name": "python3"
    },
    "language_info": {
      "codemirror_mode": {
        "name": "ipython",
        "version": 3
      },
      "file_extension": ".py",
      "mimetype": "text/x-python",
      "name": "python",
      "nbconvert_exporter": "python",
      "pygments_lexer": "ipython3",
      "version": "3.9.7"
    },
    "colab": {
      "provenance": [],
      "private_outputs": true,
      "history_visible": true,
      "include_colab_link": true
    },
    "gpuClass": "standard",
    "accelerator": "GPU"
  },
  "nbformat": 4,
  "nbformat_minor": 5
}